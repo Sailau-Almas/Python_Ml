{
 "cells": [
  {
   "cell_type": "markdown",
   "id": "09f143b6",
   "metadata": {},
   "source": [
    "# Final"
   ]
  },
  {
   "cell_type": "code",
   "execution_count": 39,
   "id": "b70385fa",
   "metadata": {},
   "outputs": [],
   "source": [
    "import numpy as np\n",
    "import pandas as pd\n",
    "from sklearn.model_selection import train_test_split\n",
    "from sklearn.preprocessing import LabelEncoder, StandardScaler\n",
    "from sklearn.metrics import accuracy_score, f1_score, recall_score, precision_score\n",
    "from tensorflow.keras.models import Sequential\n",
    "from tensorflow.keras.layers import SimpleRNN, Dense, Dropout\n",
    "from tensorflow.keras.callbacks import EarlyStopping"
   ]
  },
  {
   "cell_type": "code",
   "execution_count": 18,
   "id": "34689111",
   "metadata": {},
   "outputs": [
    {
     "name": "stdout",
     "output_type": "stream",
     "text": [
      "<class 'pandas.core.frame.DataFrame'>\n",
      "RangeIndex: 100000 entries, 0 to 99999\n",
      "Data columns (total 35 columns):\n",
      " #   Column             Non-Null Count   Dtype \n",
      "---  ------             --------------   ----- \n",
      " 0   hash               100000 non-null  object\n",
      " 1   millisecond        100000 non-null  object\n",
      " 2   classification     100000 non-null  object\n",
      " 3   state              100000 non-null  object\n",
      " 4   usage_counter      100000 non-null  object\n",
      " 5   prio               100000 non-null  object\n",
      " 6   static_prio        100000 non-null  object\n",
      " 7   normal_prio        100000 non-null  object\n",
      " 8   policy             100000 non-null  object\n",
      " 9   vm_pgoff           100000 non-null  object\n",
      " 10  vm_truncate_count  100000 non-null  object\n",
      " 11  task_size          100000 non-null  object\n",
      " 12  cached_hole_size   100000 non-null  object\n",
      " 13  free_area_cache    100000 non-null  object\n",
      " 14  mm_users           100000 non-null  object\n",
      " 15  map_count          100000 non-null  object\n",
      " 16  hiwater_rss        100000 non-null  object\n",
      " 17  total_vm           100000 non-null  object\n",
      " 18  shared_vm          100000 non-null  object\n",
      " 19  exec_vm            100000 non-null  object\n",
      " 20  reserved_vm        100000 non-null  object\n",
      " 21  nr_ptes            100000 non-null  object\n",
      " 22  end_data           100000 non-null  object\n",
      " 23  last_interval      100000 non-null  object\n",
      " 24  nvcsw              100000 non-null  object\n",
      " 25  nivcsw             100000 non-null  object\n",
      " 26  min_flt            100000 non-null  object\n",
      " 27  maj_flt            100000 non-null  object\n",
      " 28  fs_excl_counter    100000 non-null  object\n",
      " 29  lock               100000 non-null  object\n",
      " 30  utime              100000 non-null  object\n",
      " 31  stime              100000 non-null  object\n",
      " 32  gtime              100000 non-null  object\n",
      " 33  cgtime             100000 non-null  object\n",
      " 34  signal_nvcsw       100000 non-null  object\n",
      "dtypes: object(35)\n",
      "memory usage: 26.7+ MB\n"
     ]
    }
   ],
   "source": [
    "data = pd.read_csv(\"C:\\\\Users\\\\Almas\\\\Downloads\\Malware.csv\")\n",
    "data.info()"
   ]
  },
  {
   "cell_type": "code",
   "execution_count": 37,
   "id": "51eae6ed",
   "metadata": {},
   "outputs": [],
   "source": [
    "label_encoder = LabelEncoder()\n",
    "data['classification'] = label_encoder.fit_transform(data['classification'])"
   ]
  },
  {
   "cell_type": "code",
   "execution_count": 35,
   "id": "698c965a",
   "metadata": {},
   "outputs": [],
   "source": [
    "X_train, X_test, y_train, y_test = train_test_split(X, y, test_size=0.2, random_state=42)"
   ]
  },
  {
   "cell_type": "code",
   "execution_count": 40,
   "id": "7e34da0f",
   "metadata": {},
   "outputs": [],
   "source": [
    "X = data.drop(columns=['classification', 'hash'])  \n",
    "scaler = StandardScaler()\n",
    "X = scaler.fit_transform(X)"
   ]
  },
  {
   "cell_type": "code",
   "execution_count": 41,
   "id": "b86fe714",
   "metadata": {},
   "outputs": [],
   "source": [
    "y = data['classification']"
   ]
  },
  {
   "cell_type": "code",
   "execution_count": 42,
   "id": "a21b1877",
   "metadata": {},
   "outputs": [],
   "source": [
    "X_train, X_test, y_train, y_test = train_test_split(X, y, test_size=0.2, random_state=42)"
   ]
  },
  {
   "cell_type": "code",
   "execution_count": 43,
   "id": "75d3b0b6",
   "metadata": {},
   "outputs": [],
   "source": [
    "X_train_rnn = X_train.reshape((X_train.shape[0], 1, X_train.shape[1]))\n",
    "X_test_rnn = X_test.reshape((X_test.shape[0], 1, X_test.shape[1]))"
   ]
  },
  {
   "cell_type": "code",
   "execution_count": 44,
   "id": "78ba6505",
   "metadata": {},
   "outputs": [
    {
     "name": "stderr",
     "output_type": "stream",
     "text": [
      "D:\\programs\\anaconda\\Lib\\site-packages\\keras\\src\\layers\\rnn\\rnn.py:204: UserWarning: Do not pass an `input_shape`/`input_dim` argument to a layer. When using Sequential models, prefer using an `Input(shape)` object as the first layer in the model instead.\n",
      "  super().__init__(**kwargs)\n"
     ]
    }
   ],
   "source": [
    "model = Sequential([\n",
    "    SimpleRNN(64, activation='relu', input_shape=(X_train_rnn.shape[1], X_train_rnn.shape[2])),\n",
    "    Dropout(0.5),\n",
    "    Dense(64, activation='relu'),\n",
    "    Dropout(0.5),\n",
    "    Dense(1, activation='sigmoid')\n",
    "])"
   ]
  },
  {
   "cell_type": "code",
   "execution_count": 45,
   "id": "f18adf35",
   "metadata": {},
   "outputs": [],
   "source": [
    "model.compile(optimizer='adam',\n",
    "              loss='binary_crossentropy',\n",
    "              metrics=['accuracy'])"
   ]
  },
  {
   "cell_type": "code",
   "execution_count": 46,
   "id": "662316ae",
   "metadata": {},
   "outputs": [
    {
     "name": "stdout",
     "output_type": "stream",
     "text": [
      "Epoch 1/20\n",
      "\u001b[1m2000/2000\u001b[0m \u001b[32m━━━━━━━━━━━━━━━━━━━━\u001b[0m\u001b[37m\u001b[0m \u001b[1m4s\u001b[0m 2ms/step - accuracy: 0.8654 - loss: 0.3018 - val_accuracy: 0.9934 - val_loss: 0.0305\n",
      "Epoch 2/20\n",
      "\u001b[1m2000/2000\u001b[0m \u001b[32m━━━━━━━━━━━━━━━━━━━━\u001b[0m\u001b[37m\u001b[0m \u001b[1m3s\u001b[0m 1ms/step - accuracy: 0.9832 - loss: 0.0499 - val_accuracy: 0.9964 - val_loss: 0.0124\n",
      "Epoch 3/20\n",
      "\u001b[1m2000/2000\u001b[0m \u001b[32m━━━━━━━━━━━━━━━━━━━━\u001b[0m\u001b[37m\u001b[0m \u001b[1m3s\u001b[0m 1ms/step - accuracy: 0.9910 - loss: 0.0279 - val_accuracy: 0.9975 - val_loss: 0.0068\n",
      "Epoch 4/20\n",
      "\u001b[1m2000/2000\u001b[0m \u001b[32m━━━━━━━━━━━━━━━━━━━━\u001b[0m\u001b[37m\u001b[0m \u001b[1m3s\u001b[0m 2ms/step - accuracy: 0.9938 - loss: 0.0207 - val_accuracy: 0.9983 - val_loss: 0.0064\n",
      "Epoch 5/20\n",
      "\u001b[1m2000/2000\u001b[0m \u001b[32m━━━━━━━━━━━━━━━━━━━━\u001b[0m\u001b[37m\u001b[0m \u001b[1m3s\u001b[0m 1ms/step - accuracy: 0.9946 - loss: 0.0156 - val_accuracy: 0.9986 - val_loss: 0.0038\n",
      "Epoch 6/20\n",
      "\u001b[1m2000/2000\u001b[0m \u001b[32m━━━━━━━━━━━━━━━━━━━━\u001b[0m\u001b[37m\u001b[0m \u001b[1m3s\u001b[0m 1ms/step - accuracy: 0.9953 - loss: 0.0144 - val_accuracy: 0.9989 - val_loss: 0.0062\n",
      "Epoch 7/20\n",
      "\u001b[1m2000/2000\u001b[0m \u001b[32m━━━━━━━━━━━━━━━━━━━━\u001b[0m\u001b[37m\u001b[0m \u001b[1m3s\u001b[0m 2ms/step - accuracy: 0.9957 - loss: 0.0138 - val_accuracy: 0.9986 - val_loss: 0.0045\n",
      "Epoch 8/20\n",
      "\u001b[1m2000/2000\u001b[0m \u001b[32m━━━━━━━━━━━━━━━━━━━━\u001b[0m\u001b[37m\u001b[0m \u001b[1m3s\u001b[0m 1ms/step - accuracy: 0.9952 - loss: 0.0138 - val_accuracy: 0.9984 - val_loss: 0.0052\n"
     ]
    }
   ],
   "source": [
    "early_stopping = EarlyStopping(monitor='val_loss', patience=3, restore_best_weights=True)\n",
    "history = model.fit(X_train_rnn, y_train, epochs=20, batch_size=32, validation_split=0.2, callbacks=[early_stopping])"
   ]
  },
  {
   "cell_type": "code",
   "execution_count": 47,
   "id": "4a4833e0",
   "metadata": {},
   "outputs": [
    {
     "name": "stdout",
     "output_type": "stream",
     "text": [
      "\u001b[1m625/625\u001b[0m \u001b[32m━━━━━━━━━━━━━━━━━━━━\u001b[0m\u001b[37m\u001b[0m \u001b[1m1s\u001b[0m 730us/step\n",
      "Accuracy: 0.99905\n",
      "F1 Score: 0.9990479530991633\n",
      "Recall: 0.9998996990972919\n",
      "Precision: 0.9981976569540403\n"
     ]
    }
   ],
   "source": [
    "y_pred = (model.predict(X_test_rnn) > 0.5).astype(\"int32\").ravel()\n",
    "accuracy = accuracy_score(y_test, y_pred)\n",
    "f1 = f1_score(y_test, y_pred)\n",
    "recall = recall_score(y_test, y_pred)\n",
    "precision = precision_score(y_test, y_pred)\n",
    "\n",
    "print(\"Accuracy:\", accuracy)\n",
    "print(\"F1 Score:\", f1)\n",
    "print(\"Recall:\", recall)\n",
    "print(\"Precision:\", precision)"
   ]
  },
  {
   "cell_type": "code",
   "execution_count": null,
   "id": "312c9453",
   "metadata": {},
   "outputs": [],
   "source": []
  }
 ],
 "metadata": {
  "kernelspec": {
   "display_name": "Python 3 (ipykernel)",
   "language": "python",
   "name": "python3"
  },
  "language_info": {
   "codemirror_mode": {
    "name": "ipython",
    "version": 3
   },
   "file_extension": ".py",
   "mimetype": "text/x-python",
   "name": "python",
   "nbconvert_exporter": "python",
   "pygments_lexer": "ipython3",
   "version": "3.11.5"
  }
 },
 "nbformat": 4,
 "nbformat_minor": 5
}
