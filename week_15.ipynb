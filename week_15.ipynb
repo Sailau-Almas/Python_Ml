{
 "cells": [
  {
   "cell_type": "code",
   "execution_count": 1,
   "id": "2706dc7f",
   "metadata": {},
   "outputs": [],
   "source": [
    "import pandas as pd\n",
    "from sklearn.preprocessing import LabelEncoder, StandardScaler\n",
    "from sklearn.model_selection import train_test_split\n",
    "from sklearn.metrics import accuracy_score, recall_score, precision_score, f1_score\n",
    "from tensorflow.keras.models import Sequential\n",
    "from tensorflow.keras.layers import Dense\n",
    "import numpy as np"
   ]
  },
  {
   "cell_type": "code",
   "execution_count": 2,
   "id": "48a3a812",
   "metadata": {},
   "outputs": [],
   "source": [
    "train_data = pd.read_csv(r\"C:\\Users\\Almas\\Downloads\\UNSW_NB15_training-set.csv\")\n",
    "test_data = pd.read_csv(r\"C:\\Users\\Almas\\Downloads\\UNSW_NB15_testing-set.csv\")"
   ]
  },
  {
   "cell_type": "code",
   "execution_count": 3,
   "id": "660df213",
   "metadata": {},
   "outputs": [],
   "source": [
    "encoder = LabelEncoder()\n",
    "scaler = StandardScaler()"
   ]
  },
  {
   "cell_type": "code",
   "execution_count": 4,
   "id": "55e5196e",
   "metadata": {},
   "outputs": [
    {
     "name": "stdout",
     "output_type": "stream",
     "text": [
      "Новые значения в столбце 'state' в тестовом наборе данных: {'CLO', 'ACC'}\n"
     ]
    }
   ],
   "source": [
    "columns_to_encode = ['proto', 'service', 'state', 'attack_cat']\n",
    "for column in columns_to_encode:\n",
    "    unique_values_train = train_data[column].unique()\n",
    "    encoder.fit(unique_values_train)  # Используем только уникальные значения из обучающего набора\n",
    "    train_data[column] = encoder.transform(train_data[column])\n",
    "    \n",
    "    # Проверяем наличие новых значений в тестовом наборе данных\n",
    "    unique_values_test = test_data[column].unique()\n",
    "    new_values = set(unique_values_test) - set(unique_values_train)\n",
    "    if new_values:\n",
    "        print(f\"Новые значения в столбце '{column}' в тестовом наборе данных: {new_values}\")\n",
    "    \n",
    "    test_data.loc[test_data[column].isin(new_values), column] = unique_values_train[0]  # Заменяем новые значения на первое значение из обучающего набора\n",
    "    test_data[column] = encoder.transform(test_data[column])"
   ]
  },
  {
   "cell_type": "code",
   "execution_count": 5,
   "id": "6810fad1",
   "metadata": {},
   "outputs": [],
   "source": [
    "X_train = train_data.drop(columns=['id', 'label', 'attack_cat'])\n",
    "X_test = test_data.drop(columns=['id', 'label', 'attack_cat'])\n",
    "\n",
    "X_train_scaled = scaler.fit_transform(X_train)\n",
    "X_test_scaled = scaler.transform(X_test)\n",
    "\n",
    "y_train = train_data['label']\n",
    "y_test = test_data['label']"
   ]
  },
  {
   "cell_type": "code",
   "execution_count": 6,
   "id": "24939ace",
   "metadata": {},
   "outputs": [
    {
     "name": "stderr",
     "output_type": "stream",
     "text": [
      "D:\\programs\\anaconda\\Lib\\site-packages\\keras\\src\\layers\\core\\dense.py:86: UserWarning: Do not pass an `input_shape`/`input_dim` argument to a layer. When using Sequential models, prefer using an `Input(shape)` object as the first layer in the model instead.\n",
      "  super().__init__(activity_regularizer=activity_regularizer, **kwargs)\n"
     ]
    }
   ],
   "source": [
    "model = Sequential([\n",
    "    Dense(64, activation='relu', input_shape=(X_train_scaled.shape[1],)),\n",
    "    Dense(32, activation='relu'),\n",
    "    Dense(10, activation='softmax')\n",
    "])"
   ]
  },
  {
   "cell_type": "code",
   "execution_count": 7,
   "id": "8565be56",
   "metadata": {},
   "outputs": [
    {
     "name": "stdout",
     "output_type": "stream",
     "text": [
      "Epoch 1/10\n",
      "\u001b[1m4384/4384\u001b[0m \u001b[32m━━━━━━━━━━━━━━━━━━━━\u001b[0m\u001b[37m\u001b[0m \u001b[1m5s\u001b[0m 974us/step - accuracy: 0.8972 - loss: 0.2786 - val_accuracy: 0.9965 - val_loss: 0.0316\n",
      "Epoch 2/10\n",
      "\u001b[1m4384/4384\u001b[0m \u001b[32m━━━━━━━━━━━━━━━━━━━━\u001b[0m\u001b[37m\u001b[0m \u001b[1m4s\u001b[0m 1ms/step - accuracy: 0.9262 - loss: 0.1534 - val_accuracy: 0.9956 - val_loss: 0.0239\n",
      "Epoch 3/10\n",
      "\u001b[1m4384/4384\u001b[0m \u001b[32m━━━━━━━━━━━━━━━━━━━━\u001b[0m\u001b[37m\u001b[0m \u001b[1m4s\u001b[0m 913us/step - accuracy: 0.9281 - loss: 0.1468 - val_accuracy: 0.9940 - val_loss: 0.0219\n",
      "Epoch 4/10\n",
      "\u001b[1m4384/4384\u001b[0m \u001b[32m━━━━━━━━━━━━━━━━━━━━\u001b[0m\u001b[37m\u001b[0m \u001b[1m4s\u001b[0m 893us/step - accuracy: 0.9305 - loss: 0.1409 - val_accuracy: 0.9916 - val_loss: 0.0277\n",
      "Epoch 5/10\n",
      "\u001b[1m4384/4384\u001b[0m \u001b[32m━━━━━━━━━━━━━━━━━━━━\u001b[0m\u001b[37m\u001b[0m \u001b[1m4s\u001b[0m 951us/step - accuracy: 0.9304 - loss: 0.1403 - val_accuracy: 0.9836 - val_loss: 0.0378\n",
      "Epoch 6/10\n",
      "\u001b[1m4384/4384\u001b[0m \u001b[32m━━━━━━━━━━━━━━━━━━━━\u001b[0m\u001b[37m\u001b[0m \u001b[1m5s\u001b[0m 1ms/step - accuracy: 0.9326 - loss: 0.1359 - val_accuracy: 0.9893 - val_loss: 0.0313\n",
      "Epoch 7/10\n",
      "\u001b[1m4384/4384\u001b[0m \u001b[32m━━━━━━━━━━━━━━━━━━━━\u001b[0m\u001b[37m\u001b[0m \u001b[1m4s\u001b[0m 815us/step - accuracy: 0.9331 - loss: 0.1346 - val_accuracy: 0.9742 - val_loss: 0.0491\n",
      "Epoch 8/10\n",
      "\u001b[1m4384/4384\u001b[0m \u001b[32m━━━━━━━━━━━━━━━━━━━━\u001b[0m\u001b[37m\u001b[0m \u001b[1m4s\u001b[0m 812us/step - accuracy: 0.9336 - loss: 0.1333 - val_accuracy: 0.9925 - val_loss: 0.0247\n",
      "Epoch 9/10\n",
      "\u001b[1m4384/4384\u001b[0m \u001b[32m━━━━━━━━━━━━━━━━━━━━\u001b[0m\u001b[37m\u001b[0m \u001b[1m4s\u001b[0m 1ms/step - accuracy: 0.9353 - loss: 0.1311 - val_accuracy: 0.9934 - val_loss: 0.0238\n",
      "Epoch 10/10\n",
      "\u001b[1m4384/4384\u001b[0m \u001b[32m━━━━━━━━━━━━━━━━━━━━\u001b[0m\u001b[37m\u001b[0m \u001b[1m4s\u001b[0m 888us/step - accuracy: 0.9353 - loss: 0.1307 - val_accuracy: 0.9917 - val_loss: 0.0241\n"
     ]
    },
    {
     "data": {
      "text/plain": [
       "<keras.src.callbacks.history.History at 0x1a7f47b1210>"
      ]
     },
     "execution_count": 7,
     "metadata": {},
     "output_type": "execute_result"
    }
   ],
   "source": [
    "model.compile(optimizer='adam', loss='sparse_categorical_crossentropy', metrics=['accuracy'])\n",
    "\n",
    "model.fit(X_train_scaled, y_train, epochs=10, batch_size=32, validation_split=0.2)"
   ]
  },
  {
   "cell_type": "code",
   "execution_count": 8,
   "id": "dc7971fa",
   "metadata": {},
   "outputs": [
    {
     "name": "stdout",
     "output_type": "stream",
     "text": [
      "\u001b[1m2573/2573\u001b[0m \u001b[32m━━━━━━━━━━━━━━━━━━━━\u001b[0m\u001b[37m\u001b[0m \u001b[1m1s\u001b[0m 538us/step\n"
     ]
    }
   ],
   "source": [
    "y_pred_probabilities = model.predict(X_test_scaled)\n",
    "y_pred = np.argmax(y_pred_probabilities, axis=1)"
   ]
  },
  {
   "cell_type": "code",
   "execution_count": 9,
   "id": "d31ddfa4",
   "metadata": {},
   "outputs": [],
   "source": [
    "accuracy = accuracy_score(y_test, y_pred)\n",
    "recall = recall_score(y_test, y_pred, average='weighted')\n",
    "f1 = f1_score(y_test, y_pred, average='weighted')\n",
    "precision = precision_score(y_test, y_pred, average='weighted')"
   ]
  },
  {
   "cell_type": "code",
   "execution_count": 10,
   "id": "e5bb1385",
   "metadata": {},
   "outputs": [
    {
     "name": "stdout",
     "output_type": "stream",
     "text": [
      "Accuracy: 0.8590341543992616\n",
      "Recall: 0.8590341543992616\n",
      "Precision: 0.8785557353405549\n",
      "F1 Score: 0.8551010245127628\n"
     ]
    }
   ],
   "source": [
    "print(\"Accuracy:\", accuracy)\n",
    "print(\"Recall:\", recall)\n",
    "print(\"Precision:\", precision)\n",
    "print(\"F1 Score:\", f1)"
   ]
  },
  {
   "cell_type": "markdown",
   "id": "82878c6d",
   "metadata": {},
   "source": [
    "# CNN"
   ]
  },
  {
   "cell_type": "code",
   "execution_count": 11,
   "id": "f0c899f6",
   "metadata": {},
   "outputs": [],
   "source": [
    "import pandas as pd\n",
    "from sklearn.preprocessing import LabelEncoder, StandardScaler\n",
    "from sklearn.model_selection import train_test_split\n",
    "from sklearn.metrics import accuracy_score, recall_score, precision_score, f1_score\n",
    "from tensorflow.keras.models import Sequential\n",
    "from tensorflow.keras.layers import Conv1D, MaxPooling1D, Flatten, Dense\n",
    "import numpy as np"
   ]
  },
  {
   "cell_type": "code",
   "execution_count": 12,
   "id": "794c2683",
   "metadata": {},
   "outputs": [],
   "source": [
    "train_data = pd.read_csv(r\"C:\\Users\\Almas\\Downloads\\UNSW_NB15_training-set.csv\")\n",
    "test_data = pd.read_csv(r\"C:\\Users\\Almas\\Downloads\\UNSW_NB15_testing-set.csv\")"
   ]
  },
  {
   "cell_type": "code",
   "execution_count": 13,
   "id": "44f01331",
   "metadata": {},
   "outputs": [
    {
     "name": "stdout",
     "output_type": "stream",
     "text": [
      "Новые значения в столбце 'state' в тестовом наборе данных: {'CLO', 'ACC'}\n"
     ]
    }
   ],
   "source": [
    "encoder = LabelEncoder()\n",
    "scaler = StandardScaler()\n",
    "columns_to_encode = ['proto', 'service', 'state', 'attack_cat']\n",
    "for column in columns_to_encode:\n",
    "    unique_values_train = train_data[column].unique()\n",
    "    encoder.fit(unique_values_train)\n",
    "    train_data[column] = encoder.transform(train_data[column])\n",
    "\n",
    "    unique_values_test = test_data[column].unique()\n",
    "    new_values = set(unique_values_test) - set(unique_values_train)\n",
    "    if new_values:\n",
    "        print(f\"Новые значения в столбце '{column}' в тестовом наборе данных: {new_values}\")\n",
    "    test_data.loc[test_data[column].isin(new_values), column] = unique_values_train[0]\n",
    "    test_data[column] = encoder.transform(test_data[column])\n"
   ]
  },
  {
   "cell_type": "code",
   "execution_count": 14,
   "id": "045e015a",
   "metadata": {},
   "outputs": [],
   "source": [
    "X_train = train_data.drop(columns=['id', 'label', 'attack_cat'])\n",
    "X_test = test_data.drop(columns=['id', 'label', 'attack_cat'])\n",
    "X_train_scaled = scaler.fit_transform(X_train)\n",
    "X_test_scaled = scaler.transform(X_test)\n",
    "\n",
    "y_train = train_data['label']\n",
    "y_test = test_data['label']"
   ]
  },
  {
   "cell_type": "code",
   "execution_count": 16,
   "id": "429fbb30",
   "metadata": {},
   "outputs": [],
   "source": [
    "X_train_cnn = X_train_scaled.reshape((X_train_scaled.shape[0], X_train_scaled.shape[1], 1))\n",
    "X_test_cnn = X_test_scaled.reshape((X_test_scaled.shape[0], X_test_scaled.shape[1], 1))"
   ]
  },
  {
   "cell_type": "code",
   "execution_count": 17,
   "id": "e768939c",
   "metadata": {},
   "outputs": [
    {
     "name": "stderr",
     "output_type": "stream",
     "text": [
      "D:\\programs\\anaconda\\Lib\\site-packages\\keras\\src\\layers\\convolutional\\base_conv.py:99: UserWarning: Do not pass an `input_shape`/`input_dim` argument to a layer. When using Sequential models, prefer using an `Input(shape)` object as the first layer in the model instead.\n",
      "  super().__init__(\n"
     ]
    }
   ],
   "source": [
    "model = Sequential([\n",
    "    Conv1D(64, 3, activation='relu', input_shape=(X_train_cnn.shape[1], X_train_cnn.shape[2])),\n",
    "    MaxPooling1D(2),\n",
    "    Conv1D(32, 3, activation='relu'),\n",
    "    MaxPooling1D(2),\n",
    "    Flatten(),\n",
    "    Dense(10, activation='softmax')\n",
    "])\n"
   ]
  },
  {
   "cell_type": "code",
   "execution_count": 18,
   "id": "5ef148f4",
   "metadata": {},
   "outputs": [
    {
     "name": "stdout",
     "output_type": "stream",
     "text": [
      "Epoch 1/10\n",
      "\u001b[1m4384/4384\u001b[0m \u001b[32m━━━━━━━━━━━━━━━━━━━━\u001b[0m\u001b[37m\u001b[0m \u001b[1m11s\u001b[0m 2ms/step - accuracy: 0.9021 - loss: 0.2562 - val_accuracy: 0.9966 - val_loss: 0.0219\n",
      "Epoch 2/10\n",
      "\u001b[1m4384/4384\u001b[0m \u001b[32m━━━━━━━━━━━━━━━━━━━━\u001b[0m\u001b[37m\u001b[0m \u001b[1m11s\u001b[0m 2ms/step - accuracy: 0.9263 - loss: 0.1579 - val_accuracy: 0.9904 - val_loss: 0.0277\n",
      "Epoch 3/10\n",
      "\u001b[1m4384/4384\u001b[0m \u001b[32m━━━━━━━━━━━━━━━━━━━━\u001b[0m\u001b[37m\u001b[0m \u001b[1m12s\u001b[0m 3ms/step - accuracy: 0.9288 - loss: 0.1471 - val_accuracy: 0.9961 - val_loss: 0.0223\n",
      "Epoch 4/10\n",
      "\u001b[1m4384/4384\u001b[0m \u001b[32m━━━━━━━━━━━━━━━━━━━━\u001b[0m\u001b[37m\u001b[0m \u001b[1m11s\u001b[0m 2ms/step - accuracy: 0.9307 - loss: 0.1432 - val_accuracy: 0.9873 - val_loss: 0.0313\n",
      "Epoch 5/10\n",
      "\u001b[1m4384/4384\u001b[0m \u001b[32m━━━━━━━━━━━━━━━━━━━━\u001b[0m\u001b[37m\u001b[0m \u001b[1m12s\u001b[0m 3ms/step - accuracy: 0.9318 - loss: 0.1421 - val_accuracy: 0.9881 - val_loss: 0.0331\n",
      "Epoch 6/10\n",
      "\u001b[1m4384/4384\u001b[0m \u001b[32m━━━━━━━━━━━━━━━━━━━━\u001b[0m\u001b[37m\u001b[0m \u001b[1m11s\u001b[0m 3ms/step - accuracy: 0.9319 - loss: 0.1412 - val_accuracy: 0.9851 - val_loss: 0.0358\n",
      "Epoch 7/10\n",
      "\u001b[1m4384/4384\u001b[0m \u001b[32m━━━━━━━━━━━━━━━━━━━━\u001b[0m\u001b[37m\u001b[0m \u001b[1m12s\u001b[0m 3ms/step - accuracy: 0.9324 - loss: 0.1397 - val_accuracy: 0.9793 - val_loss: 0.0455\n",
      "Epoch 8/10\n",
      "\u001b[1m4384/4384\u001b[0m \u001b[32m━━━━━━━━━━━━━━━━━━━━\u001b[0m\u001b[37m\u001b[0m \u001b[1m12s\u001b[0m 3ms/step - accuracy: 0.9332 - loss: 0.1383 - val_accuracy: 0.9843 - val_loss: 0.0339\n",
      "Epoch 9/10\n",
      "\u001b[1m4384/4384\u001b[0m \u001b[32m━━━━━━━━━━━━━━━━━━━━\u001b[0m\u001b[37m\u001b[0m \u001b[1m12s\u001b[0m 3ms/step - accuracy: 0.9330 - loss: 0.1375 - val_accuracy: 0.9902 - val_loss: 0.0263\n",
      "Epoch 10/10\n",
      "\u001b[1m4384/4384\u001b[0m \u001b[32m━━━━━━━━━━━━━━━━━━━━\u001b[0m\u001b[37m\u001b[0m \u001b[1m11s\u001b[0m 3ms/step - accuracy: 0.9319 - loss: 0.1393 - val_accuracy: 0.9918 - val_loss: 0.0276\n"
     ]
    },
    {
     "data": {
      "text/plain": [
       "<keras.src.callbacks.history.History at 0x1a7f4889f10>"
      ]
     },
     "execution_count": 18,
     "metadata": {},
     "output_type": "execute_result"
    }
   ],
   "source": [
    "model.compile(optimizer='adam', loss='sparse_categorical_crossentropy', metrics=['accuracy'])\n",
    "model.fit(X_train_cnn, y_train, epochs=10, batch_size=32, validation_split=0.2)"
   ]
  },
  {
   "cell_type": "code",
   "execution_count": 19,
   "id": "01f6032b",
   "metadata": {},
   "outputs": [
    {
     "name": "stdout",
     "output_type": "stream",
     "text": [
      "\u001b[1m2573/2573\u001b[0m \u001b[32m━━━━━━━━━━━━━━━━━━━━\u001b[0m\u001b[37m\u001b[0m \u001b[1m3s\u001b[0m 1ms/step\n",
      "Accuracy: 0.8555725598795122\n",
      "Recall: 0.8555725598795122\n",
      "Precision: 0.8803801690954876\n",
      "F1 Score: 0.8507837219015117\n"
     ]
    }
   ],
   "source": [
    "y_pred_probabilities = model.predict(X_test_cnn)\n",
    "y_pred = np.argmax(y_pred_probabilities, axis=1)\n",
    "accuracy = accuracy_score(y_test, y_pred)\n",
    "recall = recall_score(y_test, y_pred, average='weighted')\n",
    "f1 = f1_score(y_test, y_pred, average='weighted')\n",
    "precision = precision_score(y_test, y_pred, average='weighted')\n",
    "print(\"Accuracy:\", accuracy)\n",
    "print(\"Recall:\", recall)\n",
    "print(\"Precision:\", precision)\n",
    "print(\"F1 Score:\", f1)"
   ]
  },
  {
   "cell_type": "code",
   "execution_count": null,
   "id": "f9bd97c8",
   "metadata": {},
   "outputs": [],
   "source": []
  }
 ],
 "metadata": {
  "kernelspec": {
   "display_name": "Python 3 (ipykernel)",
   "language": "python",
   "name": "python3"
  },
  "language_info": {
   "codemirror_mode": {
    "name": "ipython",
    "version": 3
   },
   "file_extension": ".py",
   "mimetype": "text/x-python",
   "name": "python",
   "nbconvert_exporter": "python",
   "pygments_lexer": "ipython3",
   "version": "3.11.5"
  }
 },
 "nbformat": 4,
 "nbformat_minor": 5
}
